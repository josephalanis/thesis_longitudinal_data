{
  "nbformat": 4,
  "nbformat_minor": 0,
  "metadata": {
    "colab": {
      "provenance": [],
      "mount_file_id": "1o5JEQdZ1fLRgd7GPpXhnFYuSsKeuZrlu",
      "authorship_tag": "ABX9TyNXMww3XHWI36FA8eJh8k6v",
      "include_colab_link": true
    },
    "kernelspec": {
      "name": "python3",
      "display_name": "Python 3"
    },
    "language_info": {
      "name": "python"
    }
  },
  "cells": [
    {
      "cell_type": "markdown",
      "metadata": {
        "id": "view-in-github",
        "colab_type": "text"
      },
      "source": [
        "<a href=\"https://colab.research.google.com/github/josephalanis/thesis_longitudinal_data/blob/main/ThesisRN.ipynb\" target=\"_parent\"><img src=\"https://colab.research.google.com/assets/colab-badge.svg\" alt=\"Open In Colab\"/></a>"
      ]
    },
    {
      "cell_type": "code",
      "execution_count": null,
      "metadata": {
        "colab": {
          "base_uri": "https://localhost:8080/"
        },
        "id": "kCrYd7d6wXzM",
        "outputId": "faf86103-7a0c-4448-d9be-099b0472d5fb"
      },
      "outputs": [
        {
          "output_type": "stream",
          "name": "stdout",
          "text": [
            "Collecting pyadic\n",
            "  Downloading pyadic-0.2.2-py3-none-any.whl (28 kB)\n",
            "Requirement already satisfied: numpy in /usr/local/lib/python3.10/dist-packages (from pyadic) (1.25.2)\n",
            "Requirement already satisfied: sympy in /usr/local/lib/python3.10/dist-packages (from pyadic) (1.12.1)\n",
            "Requirement already satisfied: mpmath<1.4.0,>=1.1.0 in /usr/local/lib/python3.10/dist-packages (from sympy->pyadic) (1.3.0)\n",
            "Installing collected packages: pyadic\n",
            "Successfully installed pyadic-0.2.2\n"
          ]
        }
      ],
      "source": [
        "import cv2\n",
        "import numpy as np\n",
        "import pandas as pd\n",
        "import matplotlib.pyplot as plt\n",
        "from sklearn.model_selection import train_test_split\n",
        "from sklearn.preprocessing import LabelEncoder\n",
        "from keras.applications.vgg16 import VGG16, preprocess_input\n",
        "from keras.models import Model\n",
        "from sklearn.neighbors import KNeighborsClassifier\n",
        "from sklearn.preprocessing import StandardScaler\n",
        "from sklearn.metrics import accuracy_score, classification_report, confusion_matrix\n",
        "import seaborn as sns\n",
        "from functools import partial\n",
        "import math as math\n",
        "from fractions import Fraction\n",
        "from sklearn.metrics import DistanceMetric\n",
        "from sklearn.metrics.pairwise import euclidean_distances\n",
        "from sklearn.metrics.pairwise import manhattan_distances\n",
        "# Creating code to handle Missing data\n",
        "from sklearn.metrics.pairwise import nan_euclidean_distances\n",
        "from sklearn.impute import KNNImputer\n",
        "\n",
        "\n",
        "#Converting a fraction into a p-adic number\n",
        "%pip install pyadic\n",
        "from pyadic import PAdic, ModP"
      ]
    },
    {
      "cell_type": "code",
      "source": [
        "# Set the path to your dataset and Info.txt file\n",
        "\n",
        "path =\"/content/drive/MyDrive/Colab/Thesis/\"\n",
        "info_file =\"/content/drive/MyDrive/Colab/Thesis/full1.csv\"\n",
        "#info_file1=\"/content/drive/MyDrive/Colab/Thesis/dtTrail3.csv\"\n",
        "#info_file2=\"/content/drive/MyDrive/Colab/Thesis/s2.csv\"\n",
        "\n",
        "\n",
        "Original=pd.read_csv(info_file)\n",
        "#sample=pd.read_csv(info_file2)\n",
        "#info = info.drop('Unnamed: 7', axis=1)\n",
        "#Miss = pd.read_csv(info_file)\n"
      ],
      "metadata": {
        "id": "iFPMft_nwskp"
      },
      "execution_count": null,
      "outputs": []
    },
    {
      "cell_type": "code",
      "source": [
        "#Viewing Dataframe\n",
        "\n",
        "#print(sample.head())\n",
        "print(Original.head())\n"
      ],
      "metadata": {
        "colab": {
          "base_uri": "https://localhost:8080/"
        },
        "id": "K7K640Ks2UKA",
        "outputId": "509e48c7-c4cf-41a3-8f0c-e7bdc4a16329"
      },
      "execution_count": null,
      "outputs": [
        {
          "output_type": "stream",
          "name": "stdout",
          "text": [
            "   age    tenure  hours  wks_work   ln_wage   ttl_exp\n",
            "0   20  0.916667     40        51  1.589977  2.256410\n",
            "1   25  1.500000     32        52  1.778681  3.775641\n",
            "2   28  1.833333     45        75  2.551715  5.294872\n",
            "3   33  1.916667     42        97  2.614172  7.160256\n",
            "4   35  3.916667     45        95  2.536374  8.987180\n"
          ]
        }
      ]
    },
    {
      "cell_type": "code",
      "source": [
        "#Adding tt1 and tt2\n",
        "Original['tt1'] = Original.loc[:, 'ttl_exp']\n",
        "Original['tt2'] = Original.loc[:, 'ttl_exp']\n",
        "print(Original.head())\n"
      ],
      "metadata": {
        "colab": {
          "base_uri": "https://localhost:8080/"
        },
        "id": "0-n2OCwiQgAT",
        "outputId": "8589522b-4357-4edd-a6e4-947fb605520c"
      },
      "execution_count": null,
      "outputs": [
        {
          "output_type": "stream",
          "name": "stdout",
          "text": [
            "   age    tenure  hours  wks_work   ln_wage   ttl_exp       tt1       tt2\n",
            "0   20  0.916667     40        51  1.589977  2.256410  2.256410  2.256410\n",
            "1   25  1.500000     32        52  1.778681  3.775641  3.775641  3.775641\n",
            "2   28  1.833333     45        75  2.551715  5.294872  5.294872  5.294872\n",
            "3   33  1.916667     42        97  2.614172  7.160256  7.160256  7.160256\n",
            "4   35  3.916667     45        95  2.536374  8.987180  8.987180  8.987180\n"
          ]
        }
      ]
    },
    {
      "cell_type": "code",
      "source": [
        "#Creating random sample of 100\n",
        "sp=Original.sample(n=100)\n",
        "print(sp.head())"
      ],
      "metadata": {
        "colab": {
          "base_uri": "https://localhost:8080/"
        },
        "id": "dXnT7oN13txZ",
        "outputId": "3ff139f0-5a8a-44f2-fb2a-cd2811d9bab6"
      },
      "execution_count": null,
      "outputs": [
        {
          "output_type": "stream",
          "name": "stdout",
          "text": [
            "       age     tenure  hours  wks_work   ln_wage    ttl_exp        tt1  \\\n",
            "2943    28   0.166667      6        52  1.607938   2.916667   2.916667   \n",
            "6656    25   2.333333     40        33  1.741456   3.820513   3.820513   \n",
            "10198   32   3.416667      6        55  1.682148   4.634615   4.634615   \n",
            "190     38  10.583333     24        53  2.049209  10.583333  10.583333   \n",
            "5118    35   2.750000     28        54  1.653161   2.788462   2.788462   \n",
            "\n",
            "             tt2  \n",
            "2943    2.916667  \n",
            "6656    3.820513  \n",
            "10198   4.634615  \n",
            "190    10.583333  \n",
            "5118    2.788462  \n"
          ]
        }
      ]
    },
    {
      "cell_type": "code",
      "source": [
        "# Code for missing data\n",
        "import numpy as np\n",
        "\n",
        "\n",
        "class Corruptor:\n",
        "\n",
        "    def __init__(self, data, dtype=np.float64):\n",
        "        self.dtype = data.dtype\n",
        "        self.shape = np.shape(data)\n",
        "        self.data = data.astype(dtype)\n",
        "\n",
        "    def mcar(self):\n",
        "        \"\"\" Overwrites values with MCAR placed NaN's \"\"\"\n",
        "        data_1d = self.flatten()\n",
        "        n_total = len(data_1d)\n",
        "        nan_x = np.random.choice(range(n_total),\n",
        "                                  size=int(n_total*0.3),\n",
        "                                  replace=False)\n",
        "        for x_i in nan_x:\n",
        "            data_1d[x_i] = np.nan\n",
        "        output = data_1d.reshape(self.shape)\n",
        "        return output\n"
      ],
      "metadata": {
        "id": "KHIS3_M72oFR"
      },
      "execution_count": null,
      "outputs": []
    },
    {
      "cell_type": "code",
      "source": [
        "class Corruptor1:\n",
        "\n",
        "    def __init__(self, data, dtype=np.float64):\n",
        "        self.dtype = data.dtype\n",
        "        self.shape = np.shape(data)\n",
        "        self.data = data.astype(dtype)\n",
        "\n",
        "    def mcar1(self):\n",
        "        \"\"\" Overwrites values with MCAR placed NaN's \"\"\"\n",
        "        data_1d1 = self.flatten()\n",
        "        n_total = len(data_1d1)\n",
        "        nan_x1 = np.random.choice(range(n_total),\n",
        "                                  size=int(n_total*0.5),\n",
        "                                  replace=False)\n",
        "\n",
        "        for x_i1 in nan_x1:\n",
        "            data_1d1[x_i1] = np.nan\n",
        "        output1 = data_1d1.reshape(self.shape)\n",
        "        return output1\n"
      ],
      "metadata": {
        "id": "q0OZXOkK2puY"
      },
      "execution_count": null,
      "outputs": []
    },
    {
      "cell_type": "code",
      "source": [
        "#Creating code to find bias\n",
        "def bias(X,Y):\n",
        "    diff=X-Y\n",
        "    #print(diff)\n",
        "    m=diff.mean()\n",
        "    return m"
      ],
      "metadata": {
        "id": "bHdSHSGQ6KWZ"
      },
      "execution_count": null,
      "outputs": []
    },
    {
      "cell_type": "code",
      "source": [
        "#Calculating RMSE\n",
        "from sklearn.metrics import mean_squared_error\n"
      ],
      "metadata": {
        "id": "D4JLyc0b6Uap"
      },
      "execution_count": null,
      "outputs": []
    },
    {
      "cell_type": "code",
      "source": [
        "#creating for loop to find everything\n",
        "imputer=KNNImputer(n_neighbors=3,weights='uniform',metric='nan_euclidean')\n",
        "nan=float(\"NaN\")\n",
        "\n",
        "#results=np.zeros((100,4))\n",
        "\n",
        "def thesis(X):\n",
        "  results=np.zeros((1,4))\n",
        "  num_test=results.shape[0]\n",
        "  num_train=results.shape[1]\n",
        "  for i in range(num_test):\n",
        "    #for j in range(4):\n",
        "      #Creating random sample of 100\n",
        "      sp=Original.sample(n=1000)\n",
        "      #removing the columns I don't need and creating missing data:\n",
        "      sc=np.array([sp['tt1']])\n",
        "      sc=sc.astype(float)\n",
        "      sc1=np.array([sp['tt2']])\n",
        "      sc1=sc1.astype(float)\n",
        "      m=Corruptor.mcar(sc)\n",
        "      m=m.flatten()\n",
        "      m1=Corruptor1.mcar1(sc1)\n",
        "      m1=m1.flatten()\n",
        "      #print(m1)\n",
        "      #Need to combine these into one data frame with BP0,m,m1\n",
        "      sd=np.array(sp['ttl_exp'])\n",
        "      sd=sd.astype(float)\n",
        "      #Combined as an array\n",
        "      arr = np.column_stack((sd, m,m1))\n",
        "      #Combined as a dataframe\n",
        "      imp=pd.DataFrame({'ttl_exp':arr[:,0],'BP1':arr[:,1],'BP2':arr[:,2]})\n",
        "      #print(imp)\n",
        "      #Now try the imputer on the data frame of tt1 and tt2\n",
        "      sp_imputed=np.round(imputer.fit_transform(imp),3)\n",
        "      #print(sp_imputed.shape)\n",
        "      sp_imputed=pd.DataFrame({'ttl_exp':sp_imputed[:,0],'tt1':sp_imputed[:,1],'tt2':sp_imputed[:,2]})\n",
        "      #Find the  bias\n",
        "      b1=bias(sp_imputed['ttl_exp'],sp_imputed['tt1'])\n",
        "      b2=bias(sp_imputed['ttl_exp'],sp_imputed['tt2'])\n",
        "      type(b1)==float\n",
        "      type(b2)==float\n",
        "      b1=round(b1,4)\n",
        "      b2=round(b2,4)\n",
        "      #Find RMSE\n",
        "      r1 = mean_squared_error(sp_imputed['ttl_exp'],sp_imputed['tt1'], squared=False)\n",
        "      type(r1)==float\n",
        "      r1=round(r1,4)\n",
        "      r2 = mean_squared_error(sp_imputed['ttl_exp'],sp_imputed['tt2'], squared=False)\n",
        "      type(r2)==float\n",
        "      r2=round(r2,4)\n",
        "      #Storing Results\n",
        "      results[i,0]=b1\n",
        "      results[i,1]=b2\n",
        "      results[i,2]=r1\n",
        "      results[i,3]=r2\n",
        "  return results\n",
        "\n"
      ],
      "metadata": {
        "id": "ZSdyPpIz4S5p"
      },
      "execution_count": null,
      "outputs": []
    },
    {
      "cell_type": "code",
      "source": [
        "Y=thesis(Original)\n",
        "#print(Y.shape)\n",
        "#print(Y)"
      ],
      "metadata": {
        "id": "FA8_gyAuSK6L"
      },
      "execution_count": null,
      "outputs": []
    },
    {
      "cell_type": "code",
      "source": [
        "impdata=pd.DataFrame({'Itt1_Bias':Y[:,0],'Itt2_Bias':Y[:,1], 'Itt1_RMSE':Y[:,2], 'Itt2_RMSE':Y[:,3] })\n",
        "#print(impdata.head())"
      ],
      "metadata": {
        "id": "IqM_7j3BSbyi"
      },
      "execution_count": null,
      "outputs": []
    },
    {
      "cell_type": "code",
      "source": [
        "final=impdata.mean()\n",
        "print(final.round(4))"
      ],
      "metadata": {
        "colab": {
          "base_uri": "https://localhost:8080/"
        },
        "id": "91k-HHB9-Nx3",
        "outputId": "cb3ce578-83e0-407d-a24d-037120d72198"
      },
      "execution_count": null,
      "outputs": [
        {
          "output_type": "stream",
          "name": "stdout",
          "text": [
            "Itt1_Bias   -0.0003\n",
            "Itt2_Bias    0.0008\n",
            "Itt1_RMSE    0.0176\n",
            "Itt2_RMSE    0.0367\n",
            "dtype: float64\n"
          ]
        }
      ]
    },
    {
      "cell_type": "code",
      "source": [],
      "metadata": {
        "id": "ihlgrFu2BlXe"
      },
      "execution_count": null,
      "outputs": []
    }
  ]
}